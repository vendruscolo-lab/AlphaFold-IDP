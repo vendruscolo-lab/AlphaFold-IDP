{
 "cells": [
  {
   "cell_type": "code",
   "execution_count": 3,
   "metadata": {
    "scrolled": true
   },
   "outputs": [
    {
     "name": "stdout",
     "output_type": "stream",
     "text": [
      "CALVADOS topology    serial name element  resSeq resName  chainID segmentID\n",
      "0       1  ASP       C       0     ASP        0          \n",
      "1       2  ALA       C       1     ALA        0          \n",
      "2       3  GLU       C       2     GLU        0          \n",
      "3       4  PHE       C       3     PHE        0          \n",
      "4       5  ARG       C       4     ARG        0          \n",
      "new topology with CA, cg naming    serial name element  resSeq resName  chainID segmentID\n",
      "0       1   CA       C       1     ASP        0          \n",
      "1       2   CA       C       2     ALA        0          \n",
      "2       3   CA       C       3     GLU        0          \n",
      "3       4   CA       C       4     PHE        0          \n",
      "4       5   CA       C       5     ARG        0          \n",
      "<mdtraj.Topology with 1 chains, 42 residues, 42 atoms, 0 bonds>\n"
     ]
    }
   ],
   "source": [
    "%%bash\n",
    "wget https://cssb.biology.gatech.edu/skolnick/files/PULCHRA/pulchra304.tgz \n",
    "tar -zvzf pulchra304.tgz \n",
    "cd pulchra304/src/ \n",
    "cc -O3 -o pulchra pulchra.c pulchra_data.c -lm\n",
    "cd ../folder\n",
    "#../src/pulchra -v model.pdb\n"
   ]
  },
  {
   "cell_type": "code",
   "execution_count": 1,
   "metadata": {},
   "outputs": [
    {
     "name": "stdout",
     "output_type": "stream",
     "text": [
      "FD topology    serial name element  resSeq resName  chainID segmentID\n",
      "0       2   CA       C       1     GLY        0          \n",
      "1       5   CA       C       2     GLY        0          \n",
      "2       8   CA       C       3     GLY        0          \n",
      "3      11   CA       C       4     GLY        0          \n",
      "4      14   CA       C       5     GLY        0          \n",
      "new topology with CA, cg naming    serial name element  resSeq resName  chainID segmentID\n",
      "0       2   CA       C       1     ASP        0          \n",
      "1       5   CA       C       2     ALA        0          \n",
      "2       8   CA       C       3     GLU        0          \n",
      "3      11   CA       C       4     PHE        0          \n",
      "4      14   CA       C       5     ARG        0          \n",
      "<mdtraj.Topology with 1 chains, 42 residues, 42 atoms, 0 bonds>\n"
     ]
    }
   ],
   "source": [
    "#Make the plumed file\n",
    "import mdtraj as md\n",
    "name='ab'\n",
    "pdb='generated_0.pdb'\n",
    "topology = md.load(pdb).topology\n",
    "\n",
    "\n",
    "struct=md.load(pdb)\n",
    "topsel=struct.topology.select_atom_indices(selection='alpha')\n",
    "struct_ca=struct.atom_slice(topsel)\n",
    "struct_ca.save('generated_0_CA.pdb')\n",
    "\n",
    "xtc_init='history_gen_all.xtc'\n",
    "traj = md.load(xtc_init, top=pdb)\n",
    "topsel=traj.topology.select_atom_indices(selection='alpha')\n",
    "traj_ca=traj.atom_slice(topsel)\n",
    "traj_ca.save('history_gen_all_CA.pdb')\n",
    "traj_ca[0].save('history_gen_all_CA_0.pdb')\n",
    "\n",
    "\n",
    "\n",
    "\n",
    "pdb_ca='generated_0_CA.pdb'\n",
    "topology = md.load(pdb_ca).topology\n",
    "\n",
    "#topsel=top.select(\"name CA\")\n",
    "\n",
    "\n",
    "table, bonds = topology.to_dataframe()\n",
    "print('FD topology',table.head())\n",
    "\n",
    "\n",
    "ab_amino=[\"ASP\",\"ALA\",\"GLU\",\"PHE\",\"ARG\",\"HIS\",\"ASP\",\"SER\",\"GLY\",\"TYR\",\"GLU\",\"VAL\",\"HIS\",\"HIS\",\"GLN\",\"LYS\",\"LEU\",\"VAL\",\"PHE\",\"PHE\",\"ALA\",\"GLU\",\"ASP\",\"VAL\",\"GLY\",\"SER\",\"ASN\",\"LYS\",\"GLY\",\"ALA\",\"ILE\",\"ILE\",\"GLY\",\"LEU\",\"MET\",\"VAL\",\"GLY\",\"GLY\",\"VAL\",\"VAL\",\"ILE\",\"ALA\"]\n",
    "\n",
    "for i in range(0,len(ab_amino)):\n",
    "    table.loc[i,'resName'] = ab_amino[i]\n",
    "    #table['resName'] = table['resName'].replace([aminoacids3[i]], aminoacids1[i])\n",
    "\n",
    "\n",
    "\n",
    "print('new topology with CA, cg naming', table.head())\n",
    "\n",
    "\n",
    "topologyCA = md.Topology.from_dataframe(table, bonds)\n",
    "\n",
    "\n",
    "print(topologyCA)\n",
    "\n",
    "\n",
    "traj = md.load_pdb(pdb_ca,top=topologyCA)\n",
    "traj.save(name+'cg.pdb')\n",
    "##########\n",
    "\n",
    "traj = md.load_pdb('history_gen_all_CA.pdb',top=topologyCA)\n",
    "traj.save(name+'_trajcg.pdb')\n",
    "for i in range(0,len(traj)):\n",
    "    traj[i].save(name+'_'+str(i)+'.pdb')"
   ]
  },
  {
   "cell_type": "code",
   "execution_count": 2,
   "metadata": {
    "scrolled": true
   },
   "outputs": [],
   "source": [
    "for i in range(0,len(traj),1):\n",
    "    traj[i].save(name+'_'+str(i)+'.pdb')"
   ]
  },
  {
   "cell_type": "code",
   "execution_count": 149,
   "metadata": {},
   "outputs": [
    {
     "name": "stderr",
     "output_type": "stream",
     "text": [
      "rm: ab_bm.pdb: No such file or directory\n"
     ]
    }
   ],
   "source": [
    "%%bash\n",
    "./script.sh \n"
   ]
  }
 ],
 "metadata": {
  "kernelspec": {
   "display_name": "Python 3 (ipykernel)",
   "language": "python",
   "name": "python3"
  },
  "language_info": {
   "codemirror_mode": {
    "name": "ipython",
    "version": 3
   },
   "file_extension": ".py",
   "mimetype": "text/x-python",
   "name": "python",
   "nbconvert_exporter": "python",
   "pygments_lexer": "ipython3",
   "version": "3.9.13"
  }
 },
 "nbformat": 4,
 "nbformat_minor": 2
}
