{
 "cells": [
  {
   "cell_type": "code",
   "execution_count": 3,
   "metadata": {
    "scrolled": true
   },
   "outputs": [
    {
     "name": "stdout",
     "output_type": "stream",
     "text": [
      "CALVADOS topology    serial name element  resSeq resName  chainID segmentID\n",
      "0       1  ASP       C       0     ASP        0          \n",
      "1       2  ALA       C       1     ALA        0          \n",
      "2       3  GLU       C       2     GLU        0          \n",
      "3       4  PHE       C       3     PHE        0          \n",
      "4       5  ARG       C       4     ARG        0          \n",
      "new topology with CA, cg naming    serial name element  resSeq resName  chainID segmentID\n",
      "0       1   CA       C       1     ASP        0          \n",
      "1       2   CA       C       2     ALA        0          \n",
      "2       3   CA       C       3     GLU        0          \n",
      "3       4   CA       C       4     PHE        0          \n",
      "4       5   CA       C       5     ARG        0          \n",
      "<mdtraj.Topology with 1 chains, 42 residues, 42 atoms, 0 bonds>\n"
     ]
    }
   ],
   "source": [
    "%%bash\n",
    "wget https://cssb.biology.gatech.edu/skolnick/files/PULCHRA/pulchra304.tgz \n",
    "tar -zvzf pulchra304.tgz \n",
    "cd pulchra304/src/ \n",
    "cc -O3 -o pulchra pulchra.c pulchra_data.c -lm\n",
    "cd ../folder\n",
    "#../src/pulchra -v model.pdb\n"
   ]
  },
  {
   "cell_type": "code",
   "execution_count": null,
   "metadata": {},
   "outputs": [],
   "source": [
    "#Make the plumed file\n",
    "import mdtraj as md\n",
    "name='ab'\n",
    "pdb=name+'.pdb'\n",
    "dcd='ab.dcd'\n",
    "topology = md.load(pdb).topology\n",
    "traj = md.load(dcd, top=pdb)\n",
    "\n",
    "table, bonds = topology.to_dataframe()\n",
    "print('CALVADOS topology',table.head())\n",
    "\n",
    "\n",
    "aminoacids3=['ALA','ARG','ASN','ASP','CYS','GLU','GLN','GLY','HIS','ILE','LEU','LYS','MET','PHE','PRO','SER','THR','TRP','TYR','VAL']\n",
    "aminoacids1=['AHV','RHV','NHV','DHV','CHV','EHV','QHV','GHV','HHV','IHV','LHV','KHV','MHV','FHV','PHV','SHV','THV','WHV','YHV','VHV']\n",
    "\n",
    "for AA in aminoacids3:\n",
    "    table['name'] = table['name'].replace([AA], 'CA')\n",
    "\n",
    "table[\"resSeq\"] = table[\"resSeq\"] + 1\n",
    "print('new topology with CA, cg naming', table.head())\n",
    "\n",
    "\n",
    "topologyCA = md.Topology.from_dataframe(table, bonds)\n",
    "\n",
    "\n",
    "print(topologyCA)\n",
    "\n",
    "\n",
    "traj = md.load_pdb(pdb,top=topologyCA)\n",
    "traj.save(name+'cg.pdb')\n"
   ]
  },
  {
   "cell_type": "code",
   "execution_count": 4,
   "metadata": {},
   "outputs": [
    {
     "name": "stdout",
     "output_type": "stream",
     "text": [
      "CALVADOS topology    serial name element  resSeq resName  chainID segmentID\n",
      "0       1  ASP       C       0     ASP        0          \n",
      "1       2  ALA       C       1     ALA        0          \n",
      "2       3  GLU       C       2     GLU        0          \n",
      "3       4  PHE       C       3     PHE        0          \n",
      "4       5  ARG       C       4     ARG        0          \n",
      "new topology with CA, cg naming    serial name element  resSeq resName  chainID segmentID\n",
      "0       1   CA       C       1     ASP        0          \n",
      "1       2   CA       C       2     ALA        0          \n",
      "2       3   CA       C       3     GLU        0          \n",
      "3       4   CA       C       4     PHE        0          \n",
      "4       5   CA       C       5     ARG        0          \n",
      "<mdtraj.Topology with 1 chains, 42 residues, 42 atoms, 0 bonds>\n"
     ]
    }
   ],
   "source": [
    "#Trajectory\n",
    "name='ab'\n",
    "pdb=name+'.pdb'\n",
    "dcd='ab.dcd'\n",
    "traj_name=name+'dcd.pdb'\n",
    "topology = md.load(pdb).topology\n",
    "traj = md.load(dcd, top=pdb)\n",
    "\n",
    "traj.save(traj_name)\n",
    "pdb=traj_name\n",
    "\n",
    "\n",
    "    \n",
    "table, bonds = topology.to_dataframe()\n",
    "print('CALVADOS topology',table.head())\n",
    "\n",
    "\n",
    "aminoacids3=['ALA','ARG','ASN','ASP','CYS','GLU','GLN','GLY','HIS','ILE','LEU','LYS','MET','PHE','PRO','SER','THR','TRP','TYR','VAL']\n",
    "aminoacids1=['AHV','RHV','NHV','DHV','CHV','EHV','QHV','GHV','HHV','IHV','LHV','KHV','MHV','FHV','PHV','SHV','THV','WHV','YHV','VHV']\n",
    "\n",
    "for AA in aminoacids3:\n",
    "    table['name'] = table['name'].replace([AA], 'CA')\n",
    "#for i in range(0,len(aminoacids1)):\n",
    "#    table['resName'] = table['resName'].replace([aminoacids3[i]], aminoacids1[i])\n",
    "\n",
    "\n",
    "table[\"resSeq\"] = table[\"resSeq\"] + 1\n",
    "print('new topology with CA, cg naming', table.head())\n",
    "\n",
    "\n",
    "topologyCA = md.Topology.from_dataframe(table, bonds)\n",
    "\n",
    "\n",
    "print(topologyCA)\n",
    "\n",
    "\n",
    "traj = md.load_pdb(pdb,top=topologyCA)\n",
    "traj.save(name+'dcdcg.pdb')\n"
   ]
  },
  {
   "cell_type": "code",
   "execution_count": 5,
   "metadata": {
    "scrolled": true
   },
   "outputs": [],
   "source": [
    "for i in range(0,len(traj)):\n",
    "    traj[i].save(name+'_'+str(i)+'.pdb')"
   ]
  },
  {
   "cell_type": "code",
   "execution_count": 149,
   "metadata": {},
   "outputs": [
    {
     "name": "stderr",
     "output_type": "stream",
     "text": [
      "rm: ab_bm.pdb: No such file or directory\n"
     ]
    }
   ],
   "source": [
    "%%bash\n",
    "./script.sh\n"
   ]
  }
 ],
 "metadata": {
  "kernelspec": {
   "display_name": "Python 3 (ipykernel)",
   "language": "python",
   "name": "python3"
  },
  "language_info": {
   "codemirror_mode": {
    "name": "ipython",
    "version": 3
   },
   "file_extension": ".py",
   "mimetype": "text/x-python",
   "name": "python",
   "nbconvert_exporter": "python",
   "pygments_lexer": "ipython3",
   "version": "3.9.13"
  }
 },
 "nbformat": 4,
 "nbformat_minor": 2
}
